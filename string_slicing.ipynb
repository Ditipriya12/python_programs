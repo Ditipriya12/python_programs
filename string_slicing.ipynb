{
 "cells": [
  {
   "cell_type": "markdown",
   "metadata": {},
   "source": [
    "# String Extracting"
   ]
  },
  {
   "cell_type": "code",
   "execution_count": null,
   "metadata": {},
   "outputs": [
    {
     "name": "stdout",
     "output_type": "stream",
     "text": [
      "o\n",
      "S\n",
      "mpu\n",
      "mputer Science\n",
      "Computer Science\n",
      "Computer Scienc\n",
      "Computer Science\n",
      "Compu\n",
      "opt\n",
      "\n",
      "\n"
     ]
    }
   ],
   "source": [
    "s=\"Computer Science\"\n",
    "print(s[1])\n",
    "print(s[-7])\n",
    "print(s[2:5])\n",
    "print(s[2:100])\n",
    "print(s[:])\n",
    "print(s[0:-1])\n",
    "print(s[0:])\n",
    "print(s[:5])\n",
    "print(s[1:7:2])\n",
    "print(s[-1:-4])\n",
    "print(s[-1:-4])"
   ]
  }
 ],
 "metadata": {
  "kernelspec": {
   "display_name": "Python 3",
   "language": "python",
   "name": "python3"
  },
  "language_info": {
   "codemirror_mode": {
    "name": "ipython",
    "version": 3
   },
   "file_extension": ".py",
   "mimetype": "text/x-python",
   "name": "python",
   "nbconvert_exporter": "python",
   "pygments_lexer": "ipython3",
   "version": "3.13.0"
  }
 },
 "nbformat": 4,
 "nbformat_minor": 2
}
