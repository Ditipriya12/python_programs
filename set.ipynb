{
 "cells": [
  {
   "cell_type": "code",
   "execution_count": 12,
   "metadata": {},
   "outputs": [
    {
     "name": "stdout",
     "output_type": "stream",
     "text": [
      "{40, 50, 60}\n",
      "{90}\n",
      "{50, 20, 40, 10, 60, 30}\n",
      "{5, 6, 7, 8, 9}\n",
      "{5, 6, 7, 8}\n",
      "{5, 6, 7}\n",
      "{5, 6, 7}\n",
      "set()\n"
     ]
    }
   ],
   "source": [
    "s={10,20,30}\n",
    "l={40,50,60,40,50}\n",
    "s1=set(l)\n",
    "s2=set()\n",
    "print(l)\n",
    "s2.add(90)\n",
    "print(s2)\n",
    "s1.update(s)\n",
    "print(s1)\n",
    "s3={5,6,7,8,9}\n",
    "s4=s3.copy()\n",
    "print(s4)\n",
    "s4.remove(9)\n",
    "print(s4)\n",
    "s4.discard(8)\n",
    "print(s4)\n",
    "s4.discard(10)\n",
    "print(s4)\n",
    "s4.clear()\n",
    "print(s4)\n",
    "\n"
   ]
  },
  {
   "cell_type": "code",
   "execution_count": 19,
   "metadata": {},
   "outputs": [
    {
     "name": "stdout",
     "output_type": "stream",
     "text": [
      "{40, 10, 50, 20, 60, 30}\n",
      "{40, 10, 50, 20, 60, 30}\n",
      "{40, 30}\n",
      "{40, 30}\n",
      "{10, 20}\n",
      "{10, 20}\n",
      "{10, 50, 20, 60}\n",
      "{10, 50, 20, 60}\n"
     ]
    }
   ],
   "source": [
    "x={10,20,30,40}\n",
    "y={30,40,50,60}\n",
    "print(x.union(y))\n",
    "print((x|y))\n",
    "print(x.intersection(y))\n",
    "print((x&y))\n",
    "print(x.difference(y))\n",
    "print((x-y))\n",
    "print(x.symmetric_difference(y))\n",
    "print((x^y))\n"
   ]
  }
 ],
 "metadata": {
  "kernelspec": {
   "display_name": "Python 3",
   "language": "python",
   "name": "python3"
  },
  "language_info": {
   "codemirror_mode": {
    "name": "ipython",
    "version": 3
   },
   "file_extension": ".py",
   "mimetype": "text/x-python",
   "name": "python",
   "nbconvert_exporter": "python",
   "pygments_lexer": "ipython3",
   "version": "3.13.0"
  }
 },
 "nbformat": 4,
 "nbformat_minor": 2
}
