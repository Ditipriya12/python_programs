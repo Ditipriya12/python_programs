{
 "cells": [
  {
   "cell_type": "code",
   "execution_count": 3,
   "metadata": {},
   "outputs": [
    {
     "name": "stdout",
     "output_type": "stream",
     "text": [
      "{100: 'Diti', 200: 'priya'}\n"
     ]
    }
   ],
   "source": [
    "d=dict()\n",
    "d[100]=\"Diti\"\n",
    "d[200]=\"priya\"\n",
    "print(d)\n",
    "if 400 in d:\n",
    "    print(d[400])"
   ]
  },
  {
   "cell_type": "code",
   "execution_count": 5,
   "metadata": {},
   "outputs": [
    {
     "name": "stdout",
     "output_type": "stream",
     "text": [
      "{100: 'Titin', 200: 'priya', 400: 'Rima'}\n",
      "Rima\n"
     ]
    }
   ],
   "source": [
    "d=dict()\n",
    "d[100]=\"Diti\"\n",
    "d[200]=\"priya\"\n",
    "d[400]=\"Rima\"\n",
    "d[100]=\"Titin\"\n",
    "print(d)\n",
    "if 400 in d:\n",
    "    print(d[400])"
   ]
  },
  {
   "cell_type": "code",
   "execution_count": 40,
   "metadata": {},
   "outputs": [
    {
     "name": "stdout",
     "output_type": "stream",
     "text": [
      "{100: 'Titin', 200: 'priya', 400: 'Rima'}\n",
      "Rima\n",
      "3\n",
      "{100: 'Titin', 400: 'Rima'}\n",
      "(400, 'Rima')\n",
      "dict_keys([100])\n",
      "100\n",
      "100 - Titin\n",
      "{100: 'Titin'}\n",
      "Titin\n",
      "Riya\n",
      "None\n"
     ]
    }
   ],
   "source": [
    "d=dict()\n",
    "d[100]=\"Diti\"\n",
    "d[200]=\"priya\"\n",
    "d[400]=\"Rima\"\n",
    "d[100]=\"Titin\"\n",
    "print(d)\n",
    "if 400 in d:\n",
    "    print(d[400])\n",
    "'''del d[400]'''\n",
    "'''print(d[400])'''\n",
    "''''d.clear()'''\n",
    "'''print(d)'''\n",
    "print(len(d))\n",
    "d.get(200)\n",
    "d.get(500,'guest')\n",
    "d.pop(200)\n",
    "print(d)\n",
    "print(d.popitem())\n",
    "print(d.keys())\n",
    "for i in d.keys():\n",
    "    print(i)\n",
    "for k,v in d.items():\n",
    "    print(k,'-' ,v)\n",
    "d2=d.copy()\n",
    "print(d2)\n",
    "print(d.setdefault(100,'Riya'))\n",
    "print(d.setdefault(800,'Riya'))\n",
    "print(d.update())"
   ]
  },
  {
   "cell_type": "code",
   "execution_count": 41,
   "metadata": {},
   "outputs": [
    {
     "name": "stdout",
     "output_type": "stream",
     "text": [
      "{1, 4, 9, 16, 25}\n"
     ]
    }
   ],
   "source": [
    "sq={i*i for i in range(1,6)}\n",
    "print(sq)"
   ]
  }
 ],
 "metadata": {
  "kernelspec": {
   "display_name": "Python 3",
   "language": "python",
   "name": "python3"
  },
  "language_info": {
   "codemirror_mode": {
    "name": "ipython",
    "version": 3
   },
   "file_extension": ".py",
   "mimetype": "text/x-python",
   "name": "python",
   "nbconvert_exporter": "python",
   "pygments_lexer": "ipython3",
   "version": "3.13.0"
  }
 },
 "nbformat": 4,
 "nbformat_minor": 2
}
