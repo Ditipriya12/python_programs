{
 "cells": [
  {
   "cell_type": "markdown",
   "metadata": {},
   "source": [
    "# Integer typecasting"
   ]
  },
  {
   "cell_type": "code",
   "execution_count": 19,
   "metadata": {},
   "outputs": [
    {
     "name": "stdout",
     "output_type": "stream",
     "text": [
      "123\n",
      "1\n",
      "0\n",
      "10\n",
      "1111\n",
      "15\n"
     ]
    },
    {
     "data": {
      "text/plain": [
       "'print(int(\"ten\")) will give ValueError'"
      ]
     },
     "execution_count": 19,
     "metadata": {},
     "output_type": "execute_result"
    }
   ],
   "source": [
    "a=int(123.456)\n",
    "print(a)\n",
    "\"\"\"int(10+20j) is not possible thtat's why it will give compilation error\"\"\"\n",
    "print(int(True))\n",
    "print(int(False))\n",
    "print(int(\"10\"))\n",
    "'''print(int(\"10.5\")) will give ValueError'''\n",
    "print(int(1111))\n",
    "print(int(0b1111))\n",
    "'''print(int(\"0b1111\")) will give ValueError'''\n",
    "'''print(int(\"ten\")) will give ValueError'''\n",
    "\n",
    "\n"
   ]
  },
  {
   "cell_type": "markdown",
   "metadata": {},
   "source": [
    "#  Float typecasting"
   ]
  },
  {
   "cell_type": "code",
   "execution_count": null,
   "metadata": {},
   "outputs": [
    {
     "name": "stdout",
     "output_type": "stream",
     "text": [
      "1.0\n",
      "0.0\n",
      "10.0\n",
      "10.5\n"
     ]
    }
   ],
   "source": [
    "'''print(float(10+20j)) will give TypeError'''\n",
    "print(float(True))\n",
    "print(float(False))\n",
    "print(float(\"10\"))\n",
    "print(float(\"10.5\"))\n"
   ]
  },
  {
   "cell_type": "markdown",
   "metadata": {},
   "source": [
    "# Complex Typecasting Form 1"
   ]
  },
  {
   "cell_type": "code",
   "execution_count": null,
   "metadata": {},
   "outputs": [
    {
     "name": "stdout",
     "output_type": "stream",
     "text": [
      "(10+0j)\n",
      "(1+0j)\n",
      "0j\n",
      "(10+0j)\n",
      "(10.5+0j)\n"
     ]
    },
    {
     "data": {
      "text/plain": [
       "'print(complex(\"Ten\")) will give ValueError'"
      ]
     },
     "execution_count": 25,
     "metadata": {},
     "output_type": "execute_result"
    }
   ],
   "source": [
    "print(complex(10.0))\n",
    "print(complex(True))\n",
    "print(complex(False))\n",
    "print(complex(\"10\"))\n",
    "print(complex(\"10.5\"))\n",
    "'''print(complex(\"Ten\")) will give ValueError'''\n",
    "print(complex(\"10\")\n"
   ]
  }
 ],
 "metadata": {
  "kernelspec": {
   "display_name": "Python 3",
   "language": "python",
   "name": "python3"
  },
  "language_info": {
   "codemirror_mode": {
    "name": "ipython",
    "version": 3
   },
   "file_extension": ".py",
   "mimetype": "text/x-python",
   "name": "python",
   "nbconvert_exporter": "python",
   "pygments_lexer": "ipython3",
   "version": "3.13.0"
  }
 },
 "nbformat": 4,
 "nbformat_minor": 2
}
